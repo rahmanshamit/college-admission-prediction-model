{
 "cells": [
  {
   "cell_type": "code",
   "execution_count": 57,
   "metadata": {},
   "outputs": [],
   "source": [
    "import numpy as np\n",
    "import pandas as pd\n",
    "from sklearn.model_selection import train_test_split, cross_validate, cross_val_score, GridSearchCV\n",
    "from sklearn.dummy import DummyClassifier, DummyRegressor\n",
    "from sklearn.linear_model import LinearRegression, LogisticRegression, Ridge\n",
    "from sklearn.ensemble import RandomForestClassifier, RandomForestRegressor\n",
    "from sklearn.metrics import explained_variance_score, SCORERS\n",
    "from sklearn.pipeline import Pipeline, make_pipeline\n",
    "from sklearn.compose import ColumnTransformer, make_column_transformer\n",
    "from sklearn.preprocessing import StandardScaler\n",
    "from sklearn.neighbors import NearestNeighbors\n",
    "from pandas_profiling import ProfileReport\n",
    "from sklearn.ensemble import IsolationForest\n",
    "from lightgbm import LGBMRegressor"
   ]
  },
  {
   "cell_type": "markdown",
   "metadata": {},
   "source": [
    "- Goal: We are trying to predict chance of admission based on GRE score, TOEFL score, university ranking, Statement of Purpose and Letter of Recommendation Strength, Undergraduate GPA and Research Experience.\n",
    "\n",
    "- Scenario: Students who are graduating high school and have to decide which universities to apply to would be interested in this and would find it useful to know their chances of admission.\n",
    "\n",
    "- Decision: ML is going to help them decide whether or not they should apply to a university based on the predicted chance."
   ]
  },
  {
   "cell_type": "markdown",
   "metadata": {},
   "source": [
    "- Split data into train/test"
   ]
  },
  {
   "cell_type": "code",
   "execution_count": 58,
   "metadata": {},
   "outputs": [
    {
     "data": {
      "text/html": [
       "<div>\n",
       "<style scoped>\n",
       "    .dataframe tbody tr th:only-of-type {\n",
       "        vertical-align: middle;\n",
       "    }\n",
       "\n",
       "    .dataframe tbody tr th {\n",
       "        vertical-align: top;\n",
       "    }\n",
       "\n",
       "    .dataframe thead th {\n",
       "        text-align: right;\n",
       "    }\n",
       "</style>\n",
       "<table border=\"1\" class=\"dataframe\">\n",
       "  <thead>\n",
       "    <tr style=\"text-align: right;\">\n",
       "      <th></th>\n",
       "      <th>GRE Score</th>\n",
       "      <th>TOEFL Score</th>\n",
       "      <th>University Rating</th>\n",
       "      <th>SOP</th>\n",
       "      <th>LOR</th>\n",
       "      <th>CGPA</th>\n",
       "      <th>Research</th>\n",
       "      <th>Chance of Admit</th>\n",
       "    </tr>\n",
       "  </thead>\n",
       "  <tbody>\n",
       "    <tr>\n",
       "      <th>455</th>\n",
       "      <td>305</td>\n",
       "      <td>102</td>\n",
       "      <td>2</td>\n",
       "      <td>1.5</td>\n",
       "      <td>2.5</td>\n",
       "      <td>7.64</td>\n",
       "      <td>0</td>\n",
       "      <td>0.59</td>\n",
       "    </tr>\n",
       "    <tr>\n",
       "      <th>384</th>\n",
       "      <td>340</td>\n",
       "      <td>113</td>\n",
       "      <td>4</td>\n",
       "      <td>5.0</td>\n",
       "      <td>5.0</td>\n",
       "      <td>9.74</td>\n",
       "      <td>1</td>\n",
       "      <td>0.96</td>\n",
       "    </tr>\n",
       "    <tr>\n",
       "      <th>293</th>\n",
       "      <td>312</td>\n",
       "      <td>98</td>\n",
       "      <td>1</td>\n",
       "      <td>3.5</td>\n",
       "      <td>3.0</td>\n",
       "      <td>8.18</td>\n",
       "      <td>1</td>\n",
       "      <td>0.64</td>\n",
       "    </tr>\n",
       "    <tr>\n",
       "      <th>421</th>\n",
       "      <td>321</td>\n",
       "      <td>112</td>\n",
       "      <td>3</td>\n",
       "      <td>3.0</td>\n",
       "      <td>4.5</td>\n",
       "      <td>8.95</td>\n",
       "      <td>1</td>\n",
       "      <td>0.77</td>\n",
       "    </tr>\n",
       "    <tr>\n",
       "      <th>374</th>\n",
       "      <td>315</td>\n",
       "      <td>105</td>\n",
       "      <td>2</td>\n",
       "      <td>2.0</td>\n",
       "      <td>2.5</td>\n",
       "      <td>7.65</td>\n",
       "      <td>0</td>\n",
       "      <td>0.39</td>\n",
       "    </tr>\n",
       "  </tbody>\n",
       "</table>\n",
       "</div>"
      ],
      "text/plain": [
       "     GRE Score  TOEFL Score  University Rating  SOP  LOR   CGPA  Research  \\\n",
       "455        305          102                  2  1.5   2.5  7.64         0   \n",
       "384        340          113                  4  5.0   5.0  9.74         1   \n",
       "293        312           98                  1  3.5   3.0  8.18         1   \n",
       "421        321          112                  3  3.0   4.5  8.95         1   \n",
       "374        315          105                  2  2.0   2.5  7.65         0   \n",
       "\n",
       "     Chance of Admit   \n",
       "455              0.59  \n",
       "384              0.96  \n",
       "293              0.64  \n",
       "421              0.77  \n",
       "374              0.39  "
      ]
     },
     "execution_count": 58,
     "metadata": {},
     "output_type": "execute_result"
    }
   ],
   "source": [
    "df = pd.read_csv(\"Admission_Predict_Ver1.1.csv\")\n",
    "df = df.drop(columns=[\"Serial No.\"])\n",
    "df_train, df_test = train_test_split(df, random_state=123)\n",
    "df_train.head()\n",
    "\n"
   ]
  },
  {
   "cell_type": "markdown",
   "metadata": {},
   "source": [
    "- Perform exploratory data analysis, including outlier detection. "
   ]
  },
  {
   "cell_type": "code",
   "execution_count": 59,
   "metadata": {},
   "outputs": [
    {
     "data": {
      "text/plain": [
       "(375, 8)"
      ]
     },
     "execution_count": 59,
     "metadata": {},
     "output_type": "execute_result"
    }
   ],
   "source": [
    "df_train.shape"
   ]
  },
  {
   "cell_type": "code",
   "execution_count": 60,
   "metadata": {},
   "outputs": [
    {
     "name": "stdout",
     "output_type": "stream",
     "text": [
      "<class 'pandas.core.frame.DataFrame'>\n",
      "Int64Index: 375 entries, 455 to 365\n",
      "Data columns (total 8 columns):\n",
      " #   Column             Non-Null Count  Dtype  \n",
      "---  ------             --------------  -----  \n",
      " 0   GRE Score          375 non-null    int64  \n",
      " 1   TOEFL Score        375 non-null    int64  \n",
      " 2   University Rating  375 non-null    int64  \n",
      " 3   SOP                375 non-null    float64\n",
      " 4   LOR                375 non-null    float64\n",
      " 5   CGPA               375 non-null    float64\n",
      " 6   Research           375 non-null    int64  \n",
      " 7   Chance of Admit    375 non-null    float64\n",
      "dtypes: float64(4), int64(4)\n",
      "memory usage: 26.4 KB\n"
     ]
    }
   ],
   "source": [
    "df_train.info()"
   ]
  },
  {
   "cell_type": "markdown",
   "metadata": {},
   "source": [
    "ProfileReport(df_train)"
   ]
  },
  {
   "cell_type": "markdown",
   "metadata": {},
   "source": [
    "- From profiling it looks like the data is uniform."
   ]
  },
  {
   "cell_type": "code",
   "execution_count": 61,
   "metadata": {},
   "outputs": [
    {
     "data": {
      "text/plain": [
       "0.71    18\n",
       "0.64    13\n",
       "0.73    13\n",
       "0.79    13\n",
       "0.78    12\n",
       "        ..\n",
       "0.51     1\n",
       "0.43     1\n",
       "0.37     1\n",
       "0.39     1\n",
       "0.38     1\n",
       "Name: Chance of Admit , Length: 61, dtype: int64"
      ]
     },
     "execution_count": 61,
     "metadata": {},
     "output_type": "execute_result"
    }
   ],
   "source": [
    "df_train['Chance of Admit '].value_counts()"
   ]
  },
  {
   "cell_type": "markdown",
   "metadata": {},
   "source": [
    "- Target columns appears to be uniform as well."
   ]
  },
  {
   "cell_type": "markdown",
   "metadata": {},
   "source": [
    "- Overall it looks like there are no outliers to be dealt with."
   ]
  },
  {
   "cell_type": "markdown",
   "metadata": {},
   "source": [
    "\n",
    "\n",
    "- Drop features that would not actually be available during deployment.\n",
    "- Drop features for other reasons, e.g. they would not be useful for predicting the target.\n",
    "- Provide a brief justification explaining the features you dropped."
   ]
  },
  {
   "cell_type": "markdown",
   "metadata": {},
   "source": [
    "- The column 'Serial No' was dropped. All others features for training would be available during deployment as they are \n",
    "all necessary for university applications. 'Serial No' was dropped as it serves no purpose in finding the chances of application."
   ]
  },
  {
   "cell_type": "markdown",
   "metadata": {},
   "source": [
    "#### Build a preprocessing pipeline."
   ]
  },
  {
   "cell_type": "code",
   "execution_count": 62,
   "metadata": {},
   "outputs": [],
   "source": [
    "passthrough_columns = ['University Rating', 'Research']\n",
    "numeric_columns = ['GRE Score', 'TOEFL Score', 'SOP', 'LOR ', 'CGPA']\n",
    "preprocessor = make_column_transformer(\n",
    "    ('passthrough', passthrough_columns),\n",
    "    (StandardScaler(), numeric_columns)\n",
    ")"
   ]
  },
  {
   "cell_type": "markdown",
   "metadata": {},
   "source": [
    "\n",
    "- Try these models:\n",
    "    1. `DummyRegressor` or `DummyClassifer`, as appropriate\n",
    "    2. `Ridge` or `LogisticRegression`, as appropriate\n",
    "    3. `LGBMRegressor` or `LGBMClassifier`, as appropriate \n"
   ]
  },
  {
   "cell_type": "code",
   "execution_count": 63,
   "metadata": {},
   "outputs": [],
   "source": [
    "X_train = df_train.drop(columns=['Chance of Admit '])\n",
    "X_test = df_test.drop(columns=['Chance of Admit '])\n",
    "\n",
    "y_train = df_train['Chance of Admit ']\n",
    "y_test = df_test['Chance of Admit ']"
   ]
  },
  {
   "cell_type": "code",
   "execution_count": 64,
   "metadata": {},
   "outputs": [
    {
     "data": {
      "text/plain": [
       "0.0"
      ]
     },
     "execution_count": 64,
     "metadata": {},
     "output_type": "execute_result"
    }
   ],
   "source": [
    "dr = DummyRegressor(strategy='mean')\n",
    "dr.fit(X_train, y_train)\n",
    "dr.score(X_train, y_train)"
   ]
  },
  {
   "cell_type": "markdown",
   "metadata": {},
   "source": [
    "- ridge pipeline"
   ]
  },
  {
   "cell_type": "code",
   "execution_count": 65,
   "metadata": {},
   "outputs": [
    {
     "data": {
      "text/plain": [
       "0.8270029998469806"
      ]
     },
     "execution_count": 65,
     "metadata": {},
     "output_type": "execute_result"
    }
   ],
   "source": [
    "ridge_pipe = make_pipeline(preprocessor, Ridge(max_iter=1000))\n",
    "ridge_pipe.fit(X_train, y_train)\n",
    "ridge_pipe.score(X_train, y_train)"
   ]
  },
  {
   "cell_type": "code",
   "execution_count": 66,
   "metadata": {},
   "outputs": [],
   "source": [
    "\"\"\"from lecture 10\"\"\"\n",
    "def cross_validate_std(*args, **kwargs):\n",
    "    \"\"\"Like cross_validate, except also gives the standard deviation of the score\"\"\"\n",
    "    res = pd.DataFrame(cross_validate(*args, **kwargs))\n",
    "    res_mean = res.mean()\n",
    "\n",
    "    res_mean[\"std_test_score\"] = res[\"test_score\"].std()\n",
    "    if \"train_score\" in res:\n",
    "        res_mean[\"std_train_score\"] = res[\"train_score\"].std()\n",
    "    return res_mean"
   ]
  },
  {
   "cell_type": "code",
   "execution_count": 67,
   "metadata": {},
   "outputs": [
    {
     "data": {
      "text/plain": [
       "fit_time           0.009385\n",
       "score_time         0.003118\n",
       "test_score         0.809094\n",
       "train_score        0.827622\n",
       "std_test_score     0.079190\n",
       "std_train_score    0.019523\n",
       "dtype: float64"
      ]
     },
     "execution_count": 67,
     "metadata": {},
     "output_type": "execute_result"
    }
   ],
   "source": [
    "cross_validate_std(ridge_pipe, X_train, y_train, return_train_score=True)"
   ]
  },
  {
   "cell_type": "markdown",
   "metadata": {},
   "source": [
    "- LGBMRegressor pipeline"
   ]
  },
  {
   "cell_type": "code",
   "execution_count": 68,
   "metadata": {},
   "outputs": [
    {
     "data": {
      "text/plain": [
       "0.9251163737074904"
      ]
     },
     "execution_count": 68,
     "metadata": {},
     "output_type": "execute_result"
    }
   ],
   "source": [
    "lgbm_pipe = make_pipeline(preprocessor, LGBMRegressor())\n",
    "lgbm_pipe.fit(X_train, y_train)\n",
    "lgbm_pipe.score(X_train, y_train)"
   ]
  },
  {
   "cell_type": "code",
   "execution_count": 69,
   "metadata": {},
   "outputs": [
    {
     "data": {
      "text/plain": [
       "fit_time           0.020034\n",
       "score_time         0.007964\n",
       "test_score         0.743162\n",
       "train_score        0.924291\n",
       "std_test_score     0.100543\n",
       "std_train_score    0.008037\n",
       "dtype: float64"
      ]
     },
     "execution_count": 69,
     "metadata": {},
     "output_type": "execute_result"
    }
   ],
   "source": [
    "cross_validate_std(lgbm_pipe, X_train, y_train, return_train_score=True)"
   ]
  },
  {
   "cell_type": "markdown",
   "metadata": {},
   "source": [
    "#### 2(e)\n",
    "rubric={points:5}\n",
    "\n",
    "- Hyperparameter tuning."
   ]
  },
  {
   "cell_type": "markdown",
   "metadata": {},
   "source": [
    "- Ridge hyperparameter"
   ]
  },
  {
   "cell_type": "code",
   "execution_count": 77,
   "metadata": {},
   "outputs": [
    {
     "name": "stdout",
     "output_type": "stream",
     "text": [
      "Fitting 5 folds for each of 5 candidates, totalling 25 fits\n"
     ]
    },
    {
     "name": "stderr",
     "output_type": "stream",
     "text": [
      "[Parallel(n_jobs=-1)]: Using backend LokyBackend with 12 concurrent workers.\n",
      "[Parallel(n_jobs=-1)]: Done  15 out of  25 | elapsed:    0.0s remaining:    0.0s\n",
      "[Parallel(n_jobs=-1)]: Done  25 out of  25 | elapsed:    0.1s finished\n"
     ]
    },
    {
     "data": {
      "text/plain": [
       "GridSearchCV(estimator=Pipeline(steps=[('columntransformer',\n",
       "                                        ColumnTransformer(transformers=[('passthrough',\n",
       "                                                                         'passthrough',\n",
       "                                                                         ['University '\n",
       "                                                                          'Rating',\n",
       "                                                                          'Research']),\n",
       "                                                                        ('standardscaler',\n",
       "                                                                         StandardScaler(),\n",
       "                                                                         ['GRE '\n",
       "                                                                          'Score',\n",
       "                                                                          'TOEFL '\n",
       "                                                                          'Score',\n",
       "                                                                          'SOP',\n",
       "                                                                          'LOR ',\n",
       "                                                                          'CGPA'])])),\n",
       "                                       ('ridge', Ridge(max_iter=1000))]),\n",
       "             n_jobs=-1, param_grid={'ridge__alpha': [0.01, 0.1, 1.0, 10, 100]},\n",
       "             return_train_score=True, verbose=2)"
      ]
     },
     "execution_count": 77,
     "metadata": {},
     "output_type": "execute_result"
    }
   ],
   "source": [
    "param_grid = {\n",
    "    'ridge__alpha': [0.01, 0.1, 1.0, 10, 100]\n",
    "}\n",
    "ridge_grid_search = GridSearchCV(ridge_pipe, param_grid, n_jobs=-1, verbose=2, return_train_score=True)\n",
    "ridge_grid_search.fit(X_train, y_train)"
   ]
  },
  {
   "cell_type": "code",
   "execution_count": 78,
   "metadata": {},
   "outputs": [
    {
     "data": {
      "text/plain": [
       "{'ridge__alpha': 10}"
      ]
     },
     "execution_count": 78,
     "metadata": {},
     "output_type": "execute_result"
    }
   ],
   "source": [
    "ridge_grid_search.best_params_"
   ]
  },
  {
   "cell_type": "markdown",
   "metadata": {},
   "source": [
    "- LGBMRegressor hyperparameter"
   ]
  },
  {
   "cell_type": "code",
   "execution_count": 79,
   "metadata": {},
   "outputs": [
    {
     "name": "stdout",
     "output_type": "stream",
     "text": [
      "Fitting 5 folds for each of 60 candidates, totalling 300 fits\n"
     ]
    },
    {
     "name": "stderr",
     "output_type": "stream",
     "text": [
      "[Parallel(n_jobs=-1)]: Using backend LokyBackend with 12 concurrent workers.\n",
      "[Parallel(n_jobs=-1)]: Done  17 tasks      | elapsed:    0.2s\n",
      "[Parallel(n_jobs=-1)]: Done 300 out of 300 | elapsed:    1.1s finished\n"
     ]
    },
    {
     "data": {
      "text/plain": [
       "GridSearchCV(estimator=Pipeline(steps=[('columntransformer',\n",
       "                                        ColumnTransformer(transformers=[('passthrough',\n",
       "                                                                         'passthrough',\n",
       "                                                                         ['University '\n",
       "                                                                          'Rating',\n",
       "                                                                          'Research']),\n",
       "                                                                        ('standardscaler',\n",
       "                                                                         StandardScaler(),\n",
       "                                                                         ['GRE '\n",
       "                                                                          'Score',\n",
       "                                                                          'TOEFL '\n",
       "                                                                          'Score',\n",
       "                                                                          'SOP',\n",
       "                                                                          'LOR ',\n",
       "                                                                          'CGPA'])])),\n",
       "                                       ('lgbmregressor', LGBMRegressor())]),\n",
       "             n_jobs=-1,\n",
       "             param_grid={'lgbmregressor__max_depth': [5, 15, 30],\n",
       "                         'lgbmregressor__n_estimators': [25, 50, 75, 100],\n",
       "                         'lgbmregressor__num_leaves': [5, 10, 15, 20, 25]},\n",
       "             return_train_score=True, verbose=2)"
      ]
     },
     "execution_count": 79,
     "metadata": {},
     "output_type": "execute_result"
    }
   ],
   "source": [
    "lgbm_grid = {\n",
    "    'lgbmregressor__num_leaves': [5, 10, 15, 20, 25],\n",
    "    'lgbmregressor__max_depth': [5, 15, 30],\n",
    "    'lgbmregressor__n_estimators': [25, 50, 75, 100]\n",
    "}\n",
    "lgbm_grid_search = GridSearchCV(lgbm_pipe, lgbm_grid, n_jobs=-1, verbose=2, return_train_score=True)\n",
    "lgbm_grid_search.fit(X_train, y_train)"
   ]
  },
  {
   "cell_type": "code",
   "execution_count": 80,
   "metadata": {},
   "outputs": [
    {
     "data": {
      "text/plain": [
       "{'lgbmregressor__max_depth': 5,\n",
       " 'lgbmregressor__n_estimators': 50,\n",
       " 'lgbmregressor__num_leaves': 5}"
      ]
     },
     "execution_count": 80,
     "metadata": {},
     "output_type": "execute_result"
    }
   ],
   "source": [
    "lgbm_grid_search.best_params_"
   ]
  },
  {
   "cell_type": "markdown",
   "metadata": {},
   "source": [
    "- comparison:"
   ]
  },
  {
   "cell_type": "code",
   "execution_count": 84,
   "metadata": {},
   "outputs": [
    {
     "data": {
      "text/html": [
       "<div>\n",
       "<style scoped>\n",
       "    .dataframe tbody tr th:only-of-type {\n",
       "        vertical-align: middle;\n",
       "    }\n",
       "\n",
       "    .dataframe tbody tr th {\n",
       "        vertical-align: top;\n",
       "    }\n",
       "\n",
       "    .dataframe thead th {\n",
       "        text-align: right;\n",
       "    }\n",
       "</style>\n",
       "<table border=\"1\" class=\"dataframe\">\n",
       "  <thead>\n",
       "    <tr style=\"text-align: right;\">\n",
       "      <th></th>\n",
       "      <th>mean_test_score</th>\n",
       "      <th>mean_train_score</th>\n",
       "      <th>mean_fit_time</th>\n",
       "      <th>rank_test_score</th>\n",
       "      <th>param_ridge__alpha</th>\n",
       "    </tr>\n",
       "  </thead>\n",
       "  <tbody>\n",
       "    <tr>\n",
       "      <th>3</th>\n",
       "      <td>0.809793</td>\n",
       "      <td>0.826888</td>\n",
       "      <td>0.015627</td>\n",
       "      <td>1</td>\n",
       "      <td>10</td>\n",
       "    </tr>\n",
       "    <tr>\n",
       "      <th>2</th>\n",
       "      <td>0.809094</td>\n",
       "      <td>0.827622</td>\n",
       "      <td>0.015108</td>\n",
       "      <td>2</td>\n",
       "      <td>1</td>\n",
       "    </tr>\n",
       "    <tr>\n",
       "      <th>1</th>\n",
       "      <td>0.808930</td>\n",
       "      <td>0.827631</td>\n",
       "      <td>0.016931</td>\n",
       "      <td>3</td>\n",
       "      <td>0.1</td>\n",
       "    </tr>\n",
       "    <tr>\n",
       "      <th>0</th>\n",
       "      <td>0.808912</td>\n",
       "      <td>0.827632</td>\n",
       "      <td>0.006251</td>\n",
       "      <td>4</td>\n",
       "      <td>0.01</td>\n",
       "    </tr>\n",
       "    <tr>\n",
       "      <th>4</th>\n",
       "      <td>0.798007</td>\n",
       "      <td>0.809817</td>\n",
       "      <td>0.012815</td>\n",
       "      <td>5</td>\n",
       "      <td>100</td>\n",
       "    </tr>\n",
       "  </tbody>\n",
       "</table>\n",
       "</div>"
      ],
      "text/plain": [
       "   mean_test_score  mean_train_score  mean_fit_time  rank_test_score  \\\n",
       "3         0.809793          0.826888       0.015627                1   \n",
       "2         0.809094          0.827622       0.015108                2   \n",
       "1         0.808930          0.827631       0.016931                3   \n",
       "0         0.808912          0.827632       0.006251                4   \n",
       "4         0.798007          0.809817       0.012815                5   \n",
       "\n",
       "  param_ridge__alpha  \n",
       "3                 10  \n",
       "2                  1  \n",
       "1                0.1  \n",
       "0               0.01  \n",
       "4                100  "
      ]
     },
     "execution_count": 84,
     "metadata": {},
     "output_type": "execute_result"
    }
   ],
   "source": [
    "ridge_grid_search_columns = [\n",
    "    'mean_test_score', 'mean_train_score', 'mean_fit_time', 'rank_test_score', 'param_ridge__alpha'\n",
    "]\n",
    "pd.DataFrame(ridge_grid_search.cv_results_)[ridge_grid_search_columns].sort_values(by=['rank_test_score'])"
   ]
  },
  {
   "cell_type": "code",
   "execution_count": 85,
   "metadata": {},
   "outputs": [
    {
     "data": {
      "text/html": [
       "<div>\n",
       "<style scoped>\n",
       "    .dataframe tbody tr th:only-of-type {\n",
       "        vertical-align: middle;\n",
       "    }\n",
       "\n",
       "    .dataframe tbody tr th {\n",
       "        vertical-align: top;\n",
       "    }\n",
       "\n",
       "    .dataframe thead th {\n",
       "        text-align: right;\n",
       "    }\n",
       "</style>\n",
       "<table border=\"1\" class=\"dataframe\">\n",
       "  <thead>\n",
       "    <tr style=\"text-align: right;\">\n",
       "      <th></th>\n",
       "      <th>mean_test_score</th>\n",
       "      <th>mean_train_score</th>\n",
       "      <th>mean_fit_time</th>\n",
       "      <th>rank_test_score</th>\n",
       "      <th>param_lgbmregressor__max_depth</th>\n",
       "      <th>param_lgbmregressor__n_estimators</th>\n",
       "      <th>param_lgbmregressor__num_leaves</th>\n",
       "    </tr>\n",
       "  </thead>\n",
       "  <tbody>\n",
       "    <tr>\n",
       "      <th>5</th>\n",
       "      <td>0.778603</td>\n",
       "      <td>0.867774</td>\n",
       "      <td>0.015724</td>\n",
       "      <td>1</td>\n",
       "      <td>5</td>\n",
       "      <td>50</td>\n",
       "      <td>5</td>\n",
       "    </tr>\n",
       "    <tr>\n",
       "      <th>45</th>\n",
       "      <td>0.778603</td>\n",
       "      <td>0.867774</td>\n",
       "      <td>0.016118</td>\n",
       "      <td>1</td>\n",
       "      <td>30</td>\n",
       "      <td>50</td>\n",
       "      <td>5</td>\n",
       "    </tr>\n",
       "    <tr>\n",
       "      <th>25</th>\n",
       "      <td>0.778603</td>\n",
       "      <td>0.867774</td>\n",
       "      <td>0.014087</td>\n",
       "      <td>1</td>\n",
       "      <td>15</td>\n",
       "      <td>50</td>\n",
       "      <td>5</td>\n",
       "    </tr>\n",
       "    <tr>\n",
       "      <th>0</th>\n",
       "      <td>0.776068</td>\n",
       "      <td>0.844340</td>\n",
       "      <td>0.018229</td>\n",
       "      <td>4</td>\n",
       "      <td>5</td>\n",
       "      <td>25</td>\n",
       "      <td>5</td>\n",
       "    </tr>\n",
       "    <tr>\n",
       "      <th>20</th>\n",
       "      <td>0.776068</td>\n",
       "      <td>0.844340</td>\n",
       "      <td>0.019319</td>\n",
       "      <td>4</td>\n",
       "      <td>15</td>\n",
       "      <td>25</td>\n",
       "      <td>5</td>\n",
       "    </tr>\n",
       "  </tbody>\n",
       "</table>\n",
       "</div>"
      ],
      "text/plain": [
       "    mean_test_score  mean_train_score  mean_fit_time  rank_test_score  \\\n",
       "5          0.778603          0.867774       0.015724                1   \n",
       "45         0.778603          0.867774       0.016118                1   \n",
       "25         0.778603          0.867774       0.014087                1   \n",
       "0          0.776068          0.844340       0.018229                4   \n",
       "20         0.776068          0.844340       0.019319                4   \n",
       "\n",
       "   param_lgbmregressor__max_depth param_lgbmregressor__n_estimators  \\\n",
       "5                               5                                50   \n",
       "45                             30                                50   \n",
       "25                             15                                50   \n",
       "0                               5                                25   \n",
       "20                             15                                25   \n",
       "\n",
       "   param_lgbmregressor__num_leaves  \n",
       "5                                5  \n",
       "45                               5  \n",
       "25                               5  \n",
       "0                                5  \n",
       "20                               5  "
      ]
     },
     "execution_count": 85,
     "metadata": {},
     "output_type": "execute_result"
    }
   ],
   "source": [
    "lgbm_grid_search_columns = [\n",
    "    'mean_test_score', 'mean_train_score', 'mean_fit_time', 'rank_test_score', 'param_lgbmregressor__max_depth', 'param_lgbmregressor__n_estimators', 'param_lgbmregressor__num_leaves'\n",
    "]\n",
    "pd.DataFrame(lgbm_grid_search.cv_results_)[lgbm_grid_search_columns].sort_values(by=['rank_test_score']).head()\n",
    "\n"
   ]
  },
  {
   "cell_type": "markdown",
   "metadata": {},
   "source": [
    "- though LGBMRegressor has a higher mean train score for the hyper-parameters, Ridge has a better mean test score and a smaller difference between the mean train and mean test scores."
   ]
  },
  {
   "cell_type": "markdown",
   "metadata": {},
   "source": [
    "- Look at the sub-scores from the different folds of cross-validation."
   ]
  },
  {
   "cell_type": "code",
   "execution_count": 86,
   "metadata": {},
   "outputs": [
    {
     "data": {
      "text/plain": [
       "fit_time           0.009383\n",
       "score_time         0.000000\n",
       "test_score         0.809793\n",
       "train_score        0.826888\n",
       "std_test_score     0.077049\n",
       "std_train_score    0.019464\n",
       "dtype: float64"
      ]
     },
     "execution_count": 86,
     "metadata": {},
     "output_type": "execute_result"
    }
   ],
   "source": [
    "alpha_ridge_pipe = make_pipeline(preprocessor, Ridge(alpha=10))\n",
    "cross_validate_std(alpha_ridge_pipe, X_train, y_train, return_train_score=True)"
   ]
  },
  {
   "cell_type": "markdown",
   "metadata": {},
   "source": [
    "- The train and cross validation scores are very close and the standard deviations for the test and train score are also very low.\n",
    "Given this we can trust the scores."
   ]
  },
  {
   "cell_type": "markdown",
   "metadata": {},
   "source": [
    "\n"
   ]
  },
  {
   "cell_type": "code",
   "execution_count": 87,
   "metadata": {},
   "outputs": [
    {
     "data": {
      "text/plain": [
       "0.8265163700272344"
      ]
     },
     "execution_count": 87,
     "metadata": {},
     "output_type": "execute_result"
    }
   ],
   "source": [
    "alpha_ridge_pipe.fit(X_train, y_train)\n",
    "explained_variance_score(y_train, alpha_ridge_pipe.predict(X_train))"
   ]
  },
  {
   "cell_type": "code",
   "execution_count": 88,
   "metadata": {},
   "outputs": [
    {
     "data": {
      "text/plain": [
       "0.8125502871224197"
      ]
     },
     "execution_count": 88,
     "metadata": {},
     "output_type": "execute_result"
    }
   ],
   "source": [
    "cross_val_score(alpha_ridge_pipe, X_train, y_train, scoring='explained_variance').mean()"
   ]
  },
  {
   "cell_type": "markdown",
   "metadata": {},
   "source": [
    "- The explained variance train and cross validation score are also very close."
   ]
  },
  {
   "cell_type": "markdown",
   "metadata": {},
   "source": [
    "- Evaluate model on the test set assessment of your model's deployment performance."
   ]
  },
  {
   "cell_type": "code",
   "execution_count": 89,
   "metadata": {},
   "outputs": [
    {
     "data": {
      "text/plain": [
       "0.8012355846266312"
      ]
     },
     "execution_count": 89,
     "metadata": {},
     "output_type": "execute_result"
    }
   ],
   "source": [
    "alpha_ridge_pipe.score(X_test, y_test)"
   ]
  },
  {
   "cell_type": "code",
   "execution_count": 90,
   "metadata": {},
   "outputs": [
    {
     "data": {
      "text/html": [
       "<div>\n",
       "<style scoped>\n",
       "    .dataframe tbody tr th:only-of-type {\n",
       "        vertical-align: middle;\n",
       "    }\n",
       "\n",
       "    .dataframe tbody tr th {\n",
       "        vertical-align: top;\n",
       "    }\n",
       "\n",
       "    .dataframe thead th {\n",
       "        text-align: right;\n",
       "    }\n",
       "</style>\n",
       "<table border=\"1\" class=\"dataframe\">\n",
       "  <thead>\n",
       "    <tr style=\"text-align: right;\">\n",
       "      <th></th>\n",
       "      <th>Coefficient</th>\n",
       "    </tr>\n",
       "  </thead>\n",
       "  <tbody>\n",
       "    <tr>\n",
       "      <th>Research</th>\n",
       "      <td>0.066660</td>\n",
       "    </tr>\n",
       "    <tr>\n",
       "      <th>University Rating</th>\n",
       "      <td>0.027087</td>\n",
       "    </tr>\n",
       "    <tr>\n",
       "      <th>TOEFL Score</th>\n",
       "      <td>0.022123</td>\n",
       "    </tr>\n",
       "    <tr>\n",
       "      <th>SOP</th>\n",
       "      <td>0.019784</td>\n",
       "    </tr>\n",
       "    <tr>\n",
       "      <th>CGPA</th>\n",
       "      <td>0.014933</td>\n",
       "    </tr>\n",
       "    <tr>\n",
       "      <th>GRE Score</th>\n",
       "      <td>0.004265</td>\n",
       "    </tr>\n",
       "    <tr>\n",
       "      <th>LOR</th>\n",
       "      <td>0.000519</td>\n",
       "    </tr>\n",
       "  </tbody>\n",
       "</table>\n",
       "</div>"
      ],
      "text/plain": [
       "                   Coefficient\n",
       "Research              0.066660\n",
       "University Rating     0.027087\n",
       "TOEFL Score           0.022123\n",
       "SOP                   0.019784\n",
       "CGPA                  0.014933\n",
       "GRE Score             0.004265\n",
       "LOR                   0.000519"
      ]
     },
     "execution_count": 90,
     "metadata": {},
     "output_type": "execute_result"
    }
   ],
   "source": [
    "coefficients = pd.DataFrame(data=alpha_ridge_pipe[1].coef_, index=X_train.columns, columns=[\"Coefficient\"])\n",
    "coefficients.sort_values(by=\"Coefficient\", ascending=False)"
   ]
  },
  {
   "cell_type": "markdown",
   "metadata": {},
   "source": [
    "- The test score is very close to the train and cross validation scores, so we can trust this score."
   ]
  },
  {
   "cell_type": "markdown",
   "metadata": {},
   "source": [
    "- the feature coefficients also make sense as research experience and university rating are being marked as the most important features and then the test scores come next."
   ]
  },
  {
   "cell_type": "markdown",
   "metadata": {},
   "source": [
    "- Though the scores are very close and reliable, the dataset was very small and there only seven features were used to train the model.\n",
    "If the model is used in a similarly simplistic manner, it should give accurate deployment performance, however real-world decision making should not solely rely on the model's output."
   ]
  }
 ],
 "metadata": {
  "anaconda-cloud": {},
  "kernelspec": {
   "display_name": "Python 3",
   "language": "python",
   "name": "python3"
  },
  "language_info": {
   "codemirror_mode": {
    "name": "ipython",
    "version": 3
   },
   "file_extension": ".py",
   "mimetype": "text/x-python",
   "name": "python",
   "nbconvert_exporter": "python",
   "pygments_lexer": "ipython3",
   "version": "3.8.3"
  },
  "name": "_merged",
  "toc": {
   "colors": {
    "hover_highlight": "#DAA520",
    "navigate_num": "#000000",
    "navigate_text": "#333333",
    "running_highlight": "#FF0000",
    "selected_highlight": "#FFD700",
    "sidebar_border": "#EEEEEE",
    "wrapper_background": "#FFFFFF"
   },
   "moveMenuLeft": true,
   "nav_menu": {
    "height": "438px",
    "width": "252px"
   },
   "navigate_menu": true,
   "number_sections": true,
   "sideBar": true,
   "threshold": 4,
   "toc_cell": false,
   "toc_section_display": "block",
   "toc_window_display": false,
   "widenNotebook": false
  }
 },
 "nbformat": 4,
 "nbformat_minor": 4
}
